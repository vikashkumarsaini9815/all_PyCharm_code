{
 "cells": [
  {
   "cell_type": "code",
   "execution_count": 1,
   "metadata": {},
   "outputs": [],
   "source": [
    "import os, sys\n",
    "os.environ.setdefault('DJANGO_SETTINGS_MODULE', 'ilp3pro.settings')\n",
    "os.environ[\"DJANGO_ALLOW_ASYNC_UNSAFE\"] = \"true\"\n",
    "import django\n",
    "django.setup()"
   ]
  },
  {
   "cell_type": "code",
   "execution_count": 2,
   "metadata": {},
   "outputs": [],
   "source": [
    "from ilp3app.models import *\n",
    "from ilp3app.serializers import *\n",
    "import pprint as pp"
   ]
  },
  {
   "cell_type": "code",
   "execution_count": null,
   "metadata": {},
   "outputs": [],
   "source": []
  },
  {
   "cell_type": "code",
   "execution_count": 11,
   "metadata": {},
   "outputs": [
    {
     "name": "stdout",
     "output_type": "stream",
     "text": [
      "<class 'rest_framework.utils.serializer_helpers.ReturnDict'>\n"
     ]
    },
    {
     "data": {
      "text/plain": [
       "[OrderedDict([('id', 1),\n",
       "              ('levels',\n",
       "               [OrderedDict([('id', 1),\n",
       "                             ('challenges',\n",
       "                              [OrderedDict([('id', 1),\n",
       "                                            ('medias',\n",
       "                                             [OrderedDict([('id', 1),\n",
       "                                                           ('media_name',\n",
       "                                                            'boss'),\n",
       "                                                           ('media_type',\n",
       "                                                            'pdf'),\n",
       "                                                           ('media_path',\n",
       "                                                            'fdghgty///ghftrvj'),\n",
       "                                                           ('challenge',\n",
       "                                                            1)])]),\n",
       "                                            ('challenge_name',\n",
       "                                             'TRANSPORTER TRAILER'),\n",
       "                                            ('photo',\n",
       "                                             '/challenge_image/long_ranger1.jpg'),\n",
       "                                            ('problem_statement',\n",
       "                                             'Mechanical Tank mode-1 using DC motor and controlled by switch'),\n",
       "                                            ('Rules', 'bhago'),\n",
       "                                            ('description',\n",
       "                                             '\"This Stem Kit carries multimeter, IR sensor and electronic accessories.  This kit enable the user to learn basic of electronics like current, volt, ampere, battery & motor concept to build diffrent fun gaming mdels by using kit1&2  1. Object follower Rob'),\n",
       "                                            ('document', 'fvrfdvdefefvfv'),\n",
       "                                            ('video_link',\n",
       "                                             'uhfdknvjksdjf.///mkdifjid'),\n",
       "                                            ('level', 1)]),\n",
       "                               OrderedDict([('id', 2),\n",
       "                                            ('medias', []),\n",
       "                                            ('challenge_name',\n",
       "                                             'Building a Battle Ta'),\n",
       "                                            ('photo',\n",
       "                                             '/challenge_image/8de0257169ab71830e81a2bdfdcb8928.jpg'),\n",
       "                                            ('problem_statement',\n",
       "                                             'Mechanical Tank mode-3 using DC motor and controlled by switch'),\n",
       "                                            ('Rules', 'bhago'),\n",
       "                                            ('description',\n",
       "                                             '\"This Stem Kit carries multimeter, IR sensor and electronic accessories.  This kit enable the user to learn basic of electronics like current, volt, ampere, battery & motor concept to build diffrent fun gaming mdels by using kit1&2  1. Object follower Rob'),\n",
       "                                            ('document', 'fvrfdvdefefvfv'),\n",
       "                                            ('video_link',\n",
       "                                             'uhfdknvjksdjf.///mkdifjid'),\n",
       "                                            ('level', 1)])]),\n",
       "                             ('level_number', 1),\n",
       "                             ('level_name', 'Battle station'),\n",
       "                             ('photo', '/level_image/battle_station1.jpg'),\n",
       "                             ('description',\n",
       "                              'This Stem Kit carries LDR sensor, Temperature sensor and electronic accessories.  This kit enable the user to learn  Coding Skills, Problem-solving Creativity & Innovative, Observation Skills, Logical Reasoning, Imagination.'),\n",
       "                             ('components',\n",
       "                              '\"Wired Robotic Controll Switches, High RPM Motors, Solid State Switches, Robotics Actuators, Electronic accessories  \"'),\n",
       "                             ('key_concept',\n",
       "                              'Enhancing practical education which enable Mechanical, Electronics & Mechatronic Skills and creativity'),\n",
       "                             ('key_skills',\n",
       "                              '\"This STEM educational toy teaches and builds fine motor skills,  Electronics skills, Sensor Skills, Logical thinking, Cognitive thinking,  Creativity, Dexterity,  Organising & Structuring and Problem-solving skills in kids.\"'),\n",
       "                             ('game', 1)]),\n",
       "                OrderedDict([('id', 2),\n",
       "                             ('challenges', []),\n",
       "                             ('level_number', 2),\n",
       "                             ('level_name', 'Battle of robo cars'),\n",
       "                             ('photo',\n",
       "                              '/level_image/4252727d1b31e685506f7f76f6e98104.jpg'),\n",
       "                             ('description',\n",
       "                              '\"The Stem Kit carries detailed manual to enable the user to learn the basics of fitting and also guide them through the process to build 25 unique models by using 353 parts that includes nuts, bolts, screwdriver and a spanner.  Crafted from high quality s'),\n",
       "                             ('components',\n",
       "                              '\"353 pieces of metallic Crafts Motors, Arduino Uno, Chesis, Switches, nuts & Bolts, Screw Driver, Wheels, Robotics Actuators, Leds, Electronic accessories  \"'),\n",
       "                             ('key_concept',\n",
       "                              'Enhancing practical education which enable Mechanical Skills and creativity'),\n",
       "                             ('key_skills',\n",
       "                              '\"This STEM educational toy teaches and builds fine motor skills,  Electronics skills, Logical thinking, Cognitive thinking,  Creativity, Dexterity,  Organising & Structuring and Problem-solving skills in kids.\"'),\n",
       "                             ('game', 1)]),\n",
       "                OrderedDict([('id', 3),\n",
       "                             ('challenges', []),\n",
       "                             ('level_number', 3),\n",
       "                             ('level_name', 'Battle of Transporte'),\n",
       "                             ('photo',\n",
       "                              '/level_image/8de0257169ab71830e81a2bdfdcb8928.jpg'),\n",
       "                             ('description',\n",
       "                              '\"This Stem Kit carries multimeter, IR sensor and electronic accessories.  This kit enable the user to learn basic of electronics like current, volt, ampere, battery & motor concept to build diffrent fun gaming mdels by using kit1&2  1. Object follower Rob'),\n",
       "                             ('components',\n",
       "                              '\"353 pieces of metallic Crafts Motors, Arduino Uno, Chesis, Switches, nuts & Bolts, Screw Driver, Wheels, Robotics Actuators, Leds, Electronic accessories  \"'),\n",
       "                             ('key_concept',\n",
       "                              'Enhancing practical education which enable Mechanical, Electronics & Mechatronic Skills and creativity'),\n",
       "                             ('key_skills',\n",
       "                              '\"This STEM educational toy teaches and builds fine motor skills, Logical thinking, Cognitive thinking,  Creativity, Dexterity,  Organising & Structuring and Problem-solving skills in kids.\"'),\n",
       "                             ('game', 1)]),\n",
       "                OrderedDict([('id', 4),\n",
       "                             ('challenges', []),\n",
       "                             ('level_number', 4),\n",
       "                             ('level_name', 'Battle of Transporte'),\n",
       "                             ('photo',\n",
       "                              '/level_image/14a2cffecbd958fd1675bbfeaba4680b.jpg'),\n",
       "                             ('description',\n",
       "                              '\"The Stem Kit carries detailed manual to enable the user to learn the basics of fitting and also guide them through the process to build 25 unique models by using 353 parts that includes nuts, bolts, screwdriver and a spanner.  Crafted from high quality s'),\n",
       "                             ('components',\n",
       "                              '\"Wired Robotic Controll Switches, High RPM Motors, Solid State Switches, Robotics Actuators, Electronic accessories  \"'),\n",
       "                             ('key_concept',\n",
       "                              'Enhancing practical education which enable Mechanical, Electronics & Mechatronic Skills and creativity'),\n",
       "                             ('key_skills',\n",
       "                              '\"This STEM educational toy teaches and builds fine motor skills,  Electronics skills, Logical thinking, Cognitive thinking,  Creativity, Dexterity,  Organising & Structuring and Problem-solving skills in kids.\"'),\n",
       "                             ('game', 1)])]),\n",
       "              ('game_name', 'TOTOKA'),\n",
       "              ('gamephoto', '/game_image/bsttle_of_tank.jpg'),\n",
       "              ('price', '68900'),\n",
       "              ('mode', 'Online'),\n",
       "              ('age_group', '12+ years'),\n",
       "              ('emi', 'Available No Cost EMI'),\n",
       "              ('key_skills', 'vvvvvvvvvvvvvvvvvvvvvvv'),\n",
       "              ('key_concept', 'ffffjdjlksdfdif'),\n",
       "              ('title', 'STEM learning'),\n",
       "              ('game_type', 'SMART CITY'),\n",
       "              ('description', 'gfyjyfgcfdtrx6yg'),\n",
       "              ('duration', '1 Year'),\n",
       "              ('membership', '1 Year'),\n",
       "              ('shipping', 'Shipping STEM Kit every month'),\n",
       "              ('program', 'fdterhtjyhjykhigszgrhtryhjgbhfuyh'),\n",
       "              ('discount', '40 %'),\n",
       "              ('components', 'cfghdyjjjhgfthrjyugjhhjk'),\n",
       "              ('learning_projects', 'fgfgkj,jhgfutdxyrtyuykuhgfdestyg'),\n",
       "              ('image_url', 'ghngfddfggfh.JPG'),\n",
       "              ('youtube_video_id', 'dfgbhgff'),\n",
       "              ('total_stem_kits', '12'),\n",
       "              ('created', '2022-01-28T11:58:43.955991Z'),\n",
       "              ('updated', '2022-01-28T11:58:43.955991Z')]),\n",
       " OrderedDict([('id', 2),\n",
       "              ('levels', []),\n",
       "              ('game_name', 'TAKSHAK'),\n",
       "              ('gamephoto', '/game_image/Takshak.jpg.jpg'),\n",
       "              ('price', '68900'),\n",
       "              ('mode', 'Online'),\n",
       "              ('age_group', '12+ years'),\n",
       "              ('emi', 'Available No Cost EMI'),\n",
       "              ('key_skills', 'jkhvuisajcjdue'),\n",
       "              ('key_concept', 'jhfjkdsadcdnsfj'),\n",
       "              ('title', 'STEM learning'),\n",
       "              ('game_type', 'SMART CITY'),\n",
       "              ('description', 'hgfyudsdukdhs7e6rf8ec'),\n",
       "              ('duration', '1 Year'),\n",
       "              ('membership', '1 Year'),\n",
       "              ('shipping', 'Shipping STEM Kit every month'),\n",
       "              ('program', 'juuhuifekcndsyed'),\n",
       "              ('discount', '40 %'),\n",
       "              ('components', 'jchdsouidaskhjfgerui'),\n",
       "              ('learning_projects', 'hbcuyredjnx zxbcheui'),\n",
       "              ('image_url', 'ghngfddfggfh.JPG'),\n",
       "              ('youtube_video_id', 'dfgbhgff'),\n",
       "              ('total_stem_kits', '12'),\n",
       "              ('created', '2022-02-02T14:25:00.389645Z'),\n",
       "              ('updated', '2022-02-02T14:25:00.389645Z')])]"
      ]
     },
     "execution_count": 11,
     "metadata": {},
     "output_type": "execute_result"
    }
   ],
   "source": [
    "student = Student.objects.get(pk=3)\n",
    "serializer = StudentsSerializer(student)\n",
    "datadict5 = serializer.data\n",
    "pp.pprint(type(datadict5))\n",
    "datadict5['game']"
   ]
  },
  {
   "cell_type": "code",
   "execution_count": null,
   "metadata": {},
   "outputs": [],
   "source": []
  },
  {
   "cell_type": "code",
   "execution_count": null,
   "metadata": {},
   "outputs": [],
   "source": []
  },
  {
   "cell_type": "code",
   "execution_count": null,
   "metadata": {},
   "outputs": [],
   "source": []
  },
  {
   "cell_type": "code",
   "execution_count": null,
   "metadata": {},
   "outputs": [],
   "source": [
    "level = Level.objects.all()\n",
    "list1 = []\n",
    "#dict1 = {}\n",
    "for i in level:\n",
    "    dict1 = {}\n",
    "   # print(i.level_number)\n",
    "    dict1['id'] = i.id\n",
    "    dict1 ['level_number'] = i.level_number\n",
    "    dict1['level_name']=i.level_name\n",
    "    dict1['photo']=i.photo\n",
    "    list1.append(dict1)\n",
    "print(list1)"
   ]
  },
  {
   "cell_type": "code",
   "execution_count": null,
   "metadata": {},
   "outputs": [],
   "source": []
  },
  {
   "cell_type": "code",
   "execution_count": null,
   "metadata": {},
   "outputs": [],
   "source": [
    "students = Student.objects.get(pk=1)\n",
    "serializer = StudentsSerializer(students)\n",
    "pp.pprint (type(serializer.data))\n",
    "pp.pprint(serializer.data)\n",
    "#data3 = serializer.data\n",
    "#print(data3.keys())\n",
    "#result1=data3['game']\n",
    "#print(type(result1))\n",
    "#for gam in result1:\n",
    "   # print(type(gam))\n",
    "   # pp.pprint(dict(gam))"
   ]
  },
  {
   "cell_type": "code",
   "execution_count": 28,
   "metadata": {},
   "outputs": [
    {
     "ename": "TypeError",
     "evalue": "string indices must be integers",
     "output_type": "error",
     "traceback": [
      "\u001b[1;31m---------------------------------------------------------------------------\u001b[0m",
      "\u001b[1;31mTypeError\u001b[0m                                 Traceback (most recent call last)",
      "\u001b[1;32m<ipython-input-28-668ccfde87d9>\u001b[0m in \u001b[0;36m<module>\u001b[1;34m\u001b[0m\n\u001b[0;32m      3\u001b[0m \u001b[1;31m#data2 = serializer.data\u001b[0m\u001b[1;33m\u001b[0m\u001b[1;33m\u001b[0m\u001b[1;33m\u001b[0m\u001b[0m\n\u001b[0;32m      4\u001b[0m \u001b[1;32mfor\u001b[0m \u001b[0mdata\u001b[0m \u001b[1;32min\u001b[0m \u001b[0mserializer\u001b[0m\u001b[1;33m.\u001b[0m\u001b[0mdata\u001b[0m\u001b[1;33m:\u001b[0m\u001b[1;33m\u001b[0m\u001b[1;33m\u001b[0m\u001b[0m\n\u001b[1;32m----> 5\u001b[1;33m     \u001b[0mresult\u001b[0m \u001b[1;33m=\u001b[0m \u001b[0mdata\u001b[0m\u001b[1;33m[\u001b[0m\u001b[1;34m'game'\u001b[0m\u001b[1;33m]\u001b[0m\u001b[1;33m\u001b[0m\u001b[1;33m\u001b[0m\u001b[0m\n\u001b[0m\u001b[0;32m      6\u001b[0m     \u001b[1;32mfor\u001b[0m \u001b[0mi\u001b[0m \u001b[1;32min\u001b[0m \u001b[0mresult\u001b[0m\u001b[1;33m:\u001b[0m\u001b[1;33m\u001b[0m\u001b[1;33m\u001b[0m\u001b[0m\n\u001b[0;32m      7\u001b[0m         \u001b[0mpp\u001b[0m\u001b[1;33m.\u001b[0m\u001b[0mpprint\u001b[0m\u001b[1;33m(\u001b[0m\u001b[0mresult\u001b[0m\u001b[1;33m)\u001b[0m\u001b[1;33m\u001b[0m\u001b[1;33m\u001b[0m\u001b[0m\n",
      "\u001b[1;31mTypeError\u001b[0m: string indices must be integers"
     ]
    }
   ],
   "source": [
    "students = Student.objects.get(pk=3)\n",
    "serializer = StudentsSerializer(students)\n",
    "#data2 = serializer.data\n",
    "for data in serializer.data:\n",
    "    result = data['game']\n",
    "    for i in result:        \n",
    "        pp.pprint(result)\n",
    "        newdict = i['levels']\n",
    "#         newdict.extend(list1)\n",
    "#         pp.pprint(newdict)\n",
    "#def fun1 (a,list2):\n",
    "#     newdict = i['levels']\n",
    "#    for num in a:\n",
    "#        newdict.append(list2[num])\n",
    "#    pp.pprint(newdict)\n",
    "\n",
    "#fun1([1,2],list2=newdict)\n",
    "            #pp.pprint(serializer.data)"
   ]
  },
  {
   "cell_type": "code",
   "execution_count": null,
   "metadata": {},
   "outputs": [],
   "source": [
    "list1 = [{'level_number':1,'level_name':'betttel filed','photo':\"dssgfgfjfddsg\"},{'level_number':2,'level_name':'goga ji filed','photo':\"dssgfgfjfddsg\"},{'level_number':3,'level_name':'babab filed','photo':\"dssgfgfjfddsg\"}]"
   ]
  },
  {
   "cell_type": "code",
   "execution_count": null,
   "metadata": {},
   "outputs": [],
   "source": [
    "def activeleveldata (activelevelidlist):\n",
    "    data = []\n",
    "    for i in activelevelidlist:\n",
    "        level = Level.objects.get(id = i)\n",
    "        serializer = LevelSerializer(level)\n",
    "        data.append(serializer.data)\n",
    "    return data\n",
    "activeleveldata(activelevellist)"
   ]
  },
  {
   "cell_type": "code",
   "execution_count": null,
   "metadata": {},
   "outputs": [],
   "source": []
  },
  {
   "cell_type": "code",
   "execution_count": null,
   "metadata": {},
   "outputs": [],
   "source": [
    "step 1 :  \n",
    "        datadict = srializer.data   #  datadict yha ek dictnary hai\n",
    "        games=datadict['game']    # games ka type list hai\n",
    "        # ek - ek game ko access karne ke liye for loop chalana\n",
    "        for gam in games:\n",
    "            levels=gam['levels']  # total me se only jo active levelka pura nested data lena hai or baki ke 3 feild lene hai\n",
    "            # active level ka nested data ki list chaiye ek veriabel me\n",
    "            # activelevel function ko call karna hai\n",
    "            activelevelidlist = datadict\n",
    "            activeleveldatalist = activeleveldata([])\n",
    "            # only 3 field ka diactiveserializer banana hai\n",
    "            # dactive level ki list lani hai\n",
    "            # activelevel or dactivelevel dono ki list ko add karke new list banani hai\n",
    "            # newlevel list ko purani level list ko update karna hai\n",
    "            \n",
    "            "
   ]
  },
  {
   "cell_type": "code",
   "execution_count": null,
   "metadata": {},
   "outputs": [],
   "source": [
    "newactivelevellist = []\n",
    "level = Level.objects.get(id=1)\n",
    "serializer = LevelSerializer(level)\n",
    "levelnestedlist = serializer.data\n",
    "newactivelevellist.append(levelnestedlist)\n",
    "#print(type(levelnestedlist))\n",
    "print(newactivelevellist)"
   ]
  },
  {
   "cell_type": "code",
   "execution_count": null,
   "metadata": {},
   "outputs": [],
   "source": []
  },
  {
   "cell_type": "code",
   "execution_count": null,
   "metadata": {},
   "outputs": [],
   "source": [
    "level = Level.objects.all()\n",
    "serializer = LeveldactiveSerializer(level, many = True)\n",
    "diactivelevel = serializer.data\n",
    "print(type(diactivelevel))\n",
    "pp.pprint(diactivelevel)"
   ]
  },
  {
   "cell_type": "code",
   "execution_count": null,
   "metadata": {},
   "outputs": [],
   "source": []
  },
  {
   "cell_type": "code",
   "execution_count": null,
   "metadata": {},
   "outputs": [],
   "source": [
    "newactivelevellist.extend(diactivelevel)\n",
    "print(newactivelevellist)"
   ]
  },
  {
   "cell_type": "code",
   "execution_count": null,
   "metadata": {},
   "outputs": [],
   "source": []
  },
  {
   "cell_type": "code",
   "execution_count": null,
   "metadata": {},
   "outputs": [],
   "source": []
  },
  {
   "cell_type": "code",
   "execution_count": null,
   "metadata": {},
   "outputs": [],
   "source": [
    "student = Student.objects.get(pk=1)\n",
    "serializer = StudentsSerializer(student)\n",
    "datadict = serializer.data\n",
    "games = datadict['game']\n",
    "for gam in games:\n",
    "    levelsall = gam['levels']\n",
    "   # pp.pprint(type(levelsall))\n",
    "    activelevelreturndata = activeleveldata(activelevellist) \n",
    "    level = Level.objects.all()\n",
    "    serializer = LeveldactiveSerializer(level, many = True)\n",
    "    diactivelevel = [dict(el) for el in serializer.data]\n",
    "    activelevelreturndata.extend(diactivelevel)\n",
    "    #pp.pprint(type(activelevelreturndata))\n",
    "    activelevelreturndata \n",
    "   # pp.pprint(type(levelsall))\n",
    "res = []\n",
    "listindex =[]\n",
    "counter=0\n",
    "for arr in activelevelreturndata:\n",
    "   # pp.pprint(arr)\n",
    "    if(counter==0):\n",
    "        listindex.append(arr[\"level_number\"])\n",
    "        counter +=  1\n",
    "        res.append(arr)\n",
    "    elif(arr[\"level_number\"] not in listindex):\n",
    "        listindex.append(arr[\"level_number\"])\n",
    "        res.append(arr)\n",
    "gam['levels'] = res\n",
    "#pp.pprint(gam)\n",
    "pp.pprint(datadict)\n"
   ]
  },
  {
   "cell_type": "code",
   "execution_count": null,
   "metadata": {},
   "outputs": [],
   "source": []
  },
  {
   "cell_type": "code",
   "execution_count": null,
   "metadata": {},
   "outputs": [],
   "source": [
    "list1 = [1, 2, 3]\n",
    "# Q. wap create a dictnary of phada\n",
    "# def func (limitnumber):\n",
    "#       return resultdict\n",
    "# exa :- limtnumber = 3  resultdict = {2:[2, 4, 6, 8, ......], 3 : [3, 6, 9, ....]}\n",
    "#\n",
    "\n",
    "\n",
    "\n",
    "#  Q. list2 = []  wap where function argument list to return me us list ka sabse bada element \n",
    "# return me list chaiye jiska 0 index pe list2 sabse bada element or us aage ke element 100 ho(last ka element 100 ho)\n",
    "# exa :- list2 = [5, 7, 6]   Ans. list3 = [7, 8 , 9, 10 ....... 100]\n",
    "# def funname (list2):\n",
    "#    return Anslist3 \n",
    "\n",
    "\n",
    "# Q. str1 = \" hi am vickkumar saini bjknjhgyhjh fythgjgbkjvrdt hfdyrtuyk6uyjgfg\"  is me se a to z kitne count hai"
   ]
  },
  {
   "cell_type": "code",
   "execution_count": null,
   "metadata": {
    "scrolled": true
   },
   "outputs": [],
   "source": [
    "seen = set()\n",
    "new_l = []\n",
    "for d in levelsall:\n",
    "    t = tuple(d.items())\n",
    "    if t not in seen:\n",
    "        seen.add(t)\n",
    "        new_l.append(d)\n",
    "\n",
    "print (new_l)"
   ]
  },
  {
   "cell_type": "code",
   "execution_count": null,
   "metadata": {},
   "outputs": [],
   "source": [
    "l = [{'id': 1, 'level_number': 1,'level_name':'betall field'},\n",
    "        {'id': 2, 'level_number': 2,'level_name':'rudra tank'},\n",
    "        {'id': 1, 'level_number': 1,'level_name':'betall field'},\n",
    "     {'id':3,'level_number':3,'level_name':'armata tank'}]\n",
    "\n",
    "new_l = []\n",
    "for d in l:\n",
    "    for j in new_l:\n",
    "        if(d.id!=j.id):\n",
    "            console.log(d)\n",
    "            new_l.append(d)\n",
    "            \n",
    "print (new_l)   "
   ]
  },
  {
   "cell_type": "code",
   "execution_count": null,
   "metadata": {},
   "outputs": [],
   "source": []
  },
  {
   "cell_type": "code",
   "execution_count": null,
   "metadata": {},
   "outputs": [],
   "source": [
    "seen_titles = set()\n",
    "new_list = []\n",
    "for obj in levelsall:\n",
    "    if obj.title not in seen_titles:\n",
    "        new_list.append(obj)\n",
    "        seen_titles.add(obj.title)"
   ]
  },
  {
   "cell_type": "code",
   "execution_count": null,
   "metadata": {},
   "outputs": [],
   "source": []
  },
  {
   "cell_type": "code",
   "execution_count": null,
   "metadata": {},
   "outputs": [],
   "source": [
    "seen = {}\n",
    "for obj in l:\n",
    "    if obj[\"id\"] in seen.keys():\n",
    "        l.remove(obj)\n",
    "    else:\n",
    "        seen[obj[\"id\"]] = 1\n",
    "print(seen)"
   ]
  },
  {
   "cell_type": "code",
   "execution_count": null,
   "metadata": {},
   "outputs": [],
   "source": [
    "thisdict = {\n",
    "  \"brand\": \"Ford\",\n",
    "  \"model\": \"Mustang\",\n",
    "  \"year\": 1964\n",
    "}\n",
    "thisdict.pop(\"model\")\n",
    "print(thisdict)"
   ]
  },
  {
   "cell_type": "code",
   "execution_count": null,
   "metadata": {},
   "outputs": [],
   "source": []
  },
  {
   "cell_type": "code",
   "execution_count": null,
   "metadata": {},
   "outputs": [],
   "source": [
    "l = [{'id': 1, 'level_number': 1,'level_name':'betall field'},\n",
    "        {'id': 2, 'level_number': 2,'level_name':'rudra tank'},\n",
    "        {'id': 1, 'level_number': 1,'level_name':'betall field'},\n",
    "     {'id':3,'level_number':3,'level_name':'armata tank'}]\n",
    "\n",
    "\n"
   ]
  },
  {
   "cell_type": "code",
   "execution_count": null,
   "metadata": {},
   "outputs": [],
   "source": []
  },
  {
   "cell_type": "code",
   "execution_count": null,
   "metadata": {},
   "outputs": [],
   "source": []
  },
  {
   "cell_type": "code",
   "execution_count": null,
   "metadata": {},
   "outputs": [],
   "source": [
    "thistuple = (1, 3, 7, 8, 7, 5, 4, 6, 8, 5)\n",
    "\n",
    "x = thistuple.index(7)\n",
    "\n",
    "print(x)"
   ]
  },
  {
   "cell_type": "code",
   "execution_count": null,
   "metadata": {},
   "outputs": [],
   "source": [
    "l = [{'id': 1, 'level_number': 1,'level_name':'betall field'},\n",
    "        {'id': 2, 'level_number': 2,'level_name':'rudra tank'},\n",
    "        {'id': 1, 'level_number': 1},\n",
    "     {'id':3,'level_number':3},\n",
    "    {'id':3,'level_number':3,'level_name':'armata tank'},\n",
    "    {'id':4,'level_number':4,'level_name':'armata tank'}]\n",
    "res = []\n",
    "listindex =[]\n",
    "counter=0\n",
    "for arr in l:\n",
    "   # pp.pprint(arr)\n",
    "    if(counter==0):\n",
    "        listindex.append(arr[\"level_number\"])\n",
    "        counter +=  1\n",
    "        res.append(arr)\n",
    "    elif(arr[\"level_number\"] not in listindex):\n",
    "        listindex.append(arr[\"level_number\"])\n",
    "        res.append(arr)\n",
    "        \n",
    "pp.pprint(res)            "
   ]
  },
  {
   "cell_type": "code",
   "execution_count": null,
   "metadata": {},
   "outputs": [],
   "source": []
  },
  {
   "cell_type": "code",
   "execution_count": null,
   "metadata": {},
   "outputs": [],
   "source": [
    "list1 = [{2:2,4:5},{\"id\":2}]\n",
    "list2 = [{\"name\":\"vicky\"}]\n",
    "list1.extend(list2)"
   ]
  },
  {
   "cell_type": "code",
   "execution_count": null,
   "metadata": {},
   "outputs": [],
   "source": [
    "print(list1)"
   ]
  },
  {
   "cell_type": "code",
   "execution_count": null,
   "metadata": {},
   "outputs": [],
   "source": []
  },
  {
   "cell_type": "code",
   "execution_count": null,
   "metadata": {},
   "outputs": [],
   "source": []
  },
  {
   "cell_type": "code",
   "execution_count": null,
   "metadata": {},
   "outputs": [],
   "source": [
    "l = {\"game\":[],\"levels\":[{'id': 1, 'level_number': 1,'level_name':'betall field'},\n",
    "        {'id': 2, 'level_number': 2,'level_name':'rudra tank'},]\n",
    "list2 = [{\"id\":1, \"Level_number\":1,\"level_name\":\"vicky\"}]}\n",
    "l=list2\n",
    "print(l)"
   ]
  },
  {
   "cell_type": "code",
   "execution_count": null,
   "metadata": {},
   "outputs": [],
   "source": [
    "l"
   ]
  },
  {
   "cell_type": "code",
   "execution_count": 25,
   "metadata": {},
   "outputs": [
    {
     "name": "stdout",
     "output_type": "stream",
     "text": [
      "[{'name': 'ram', 'mybrothers': [{'name': 'ashok', 'levels': [1, 2, 3]}, {'name': 'vicky', 'levels': [3, 91, 2, 3]}], 'level': [1, 2, 3]}, 'vickydada', '7584']\n"
     ]
    }
   ],
   "source": [
    "myokdict = [{\"name\":\"ram\",\"mybrothers\":[{\"name\":\"ashok\",\"levels\":[1,2,3]},{\"name\":\"vicky\",\"levels\":[3,91,2,3]}],'level':[1,2,3]},\"vickydada\",\"7584\"]\n",
    "#d1 = [{'name': 'syam', 'levels': [1, 2, 3],\"photo\":\"bhdjkhffjhsdf.jpg\",'contact':\"749393\"}]\n",
    "#myokdict['mybrothers']=d1\n",
    "\n",
    "print(myokdict)"
   ]
  },
  {
   "cell_type": "code",
   "execution_count": 26,
   "metadata": {},
   "outputs": [
    {
     "name": "stdout",
     "output_type": "stream",
     "text": [
      "{'name': 'ram', 'mybrothers': [{'name': 'ashok', 'levels': [1, 2, 3]}, {'name': 'vicky', 'levels': [3, 91, 2, 3]}], 'level': [1, 2, 3]}\n",
      "vickydada\n",
      "7584\n"
     ]
    }
   ],
   "source": [
    "for i in myokdict:\n",
    "    print(i)\n"
   ]
  },
  {
   "cell_type": "code",
   "execution_count": null,
   "metadata": {},
   "outputs": [],
   "source": []
  },
  {
   "cell_type": "code",
   "execution_count": null,
   "metadata": {},
   "outputs": [],
   "source": []
  },
  {
   "cell_type": "code",
   "execution_count": null,
   "metadata": {},
   "outputs": [],
   "source": [
    "#  algorithime of games send 3 prodects \n",
    "\n",
    "# step 1 .  start\n",
    "# step 2 .  serializer.data  ( me tino game aane chaiye iske liye aalgase serializer bananan ho ga )\n",
    "#           usme se 3 no game nikalne hai "
   ]
  },
  {
   "cell_type": "code",
   "execution_count": null,
   "metadata": {},
   "outputs": [],
   "source": [
    "game = Games.objects.all()\n",
    "serializer = Games3Serializer(game, many = True)\n",
    "print(serializer.data)"
   ]
  },
  {
   "cell_type": "code",
   "execution_count": null,
   "metadata": {},
   "outputs": [],
   "source": []
  },
  {
   "cell_type": "code",
   "execution_count": null,
   "metadata": {},
   "outputs": [],
   "source": []
  }
 ],
 "metadata": {
  "kernelspec": {
   "display_name": "Python 3",
   "language": "python",
   "name": "python3"
  },
  "language_info": {
   "codemirror_mode": {
    "name": "ipython",
    "version": 3
   },
   "file_extension": ".py",
   "mimetype": "text/x-python",
   "name": "python",
   "nbconvert_exporter": "python",
   "pygments_lexer": "ipython3",
   "version": "3.8.5"
  }
 },
 "nbformat": 4,
 "nbformat_minor": 4
}

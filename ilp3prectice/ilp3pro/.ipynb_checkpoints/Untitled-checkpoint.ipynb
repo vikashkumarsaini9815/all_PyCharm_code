{
 "cells": [
  {
   "cell_type": "code",
   "execution_count": 1,
   "metadata": {},
   "outputs": [],
   "source": [
    "import os, sys\n",
    "os.environ.setdefault('DJANGO_SETTINGS_MODULE', 'ilp3pro.settings')\n",
    "os.environ[\"DJANGO_ALLOW_ASYNC_UNSAFE\"] = \"true\"\n",
    "import django\n",
    "django.setup()"
   ]
  },
  {
   "cell_type": "code",
   "execution_count": 2,
   "metadata": {},
   "outputs": [],
   "source": [
    "from ilp3app.models import *\n",
    "from ilp3app.serializers import *\n",
    "import pprint as pp"
   ]
  },
  {
   "cell_type": "code",
   "execution_count": null,
   "metadata": {},
   "outputs": [],
   "source": []
  },
  {
   "cell_type": "code",
   "execution_count": 7,
   "metadata": {},
   "outputs": [
    {
     "name": "stdout",
     "output_type": "stream",
     "text": [
      "id\n",
      "name\n",
      "photo\n",
      "contact\n",
      "email\n",
      "parent_contact\n",
      "game\n",
      "level\n",
      "challenge\n"
     ]
    }
   ],
   "source": [
    "student = Student.objects.get(pk=3)\n",
    "serializer = StudentsSerializer(student)\n",
    "\n",
    "for i in serializer.data:\n",
    "    print(i)\n",
    "    "
   ]
  },
  {
   "cell_type": "code",
   "execution_count": null,
   "metadata": {},
   "outputs": [],
   "source": []
  },
  {
   "cell_type": "code",
   "execution_count": null,
   "metadata": {},
   "outputs": [],
   "source": []
  },
  {
   "cell_type": "code",
   "execution_count": null,
   "metadata": {},
   "outputs": [],
   "source": []
  },
  {
   "cell_type": "code",
   "execution_count": null,
   "metadata": {},
   "outputs": [],
   "source": [
    "level = Level.objects.all()\n",
    "list1 = []\n",
    "#dict1 = {}\n",
    "for i in level:\n",
    "    dict1 = {}\n",
    "   # print(i.level_number)\n",
    "    dict1['id'] = i.id\n",
    "    dict1 ['level_number'] = i.level_number\n",
    "    dict1['level_name']=i.level_name\n",
    "    dict1['photo']=i.photo\n",
    "    list1.append(dict1)\n",
    "print(list1)"
   ]
  },
  {
   "cell_type": "code",
   "execution_count": null,
   "metadata": {},
   "outputs": [],
   "source": []
  },
  {
   "cell_type": "code",
   "execution_count": null,
   "metadata": {},
   "outputs": [],
   "source": [
    "students = Student.objects.get(pk=1)\n",
    "serializer = StudentsSerializer(students)\n",
    "pp.pprint (type(serializer.data))\n",
    "pp.pprint(serializer.data)\n",
    "#data3 = serializer.data\n",
    "#print(data3.keys())\n",
    "#result1=data3['game']\n",
    "#print(type(result1))\n",
    "#for gam in result1:\n",
    "   # print(type(gam))\n",
    "   # pp.pprint(dict(gam))"
   ]
  },
  {
   "cell_type": "code",
   "execution_count": null,
   "metadata": {},
   "outputs": [],
   "source": [
    "students = Student.objects.get(pk=1)\n",
    "serializer = StudentsSerializer(students)\n",
    "#data2 = serializer.data\n",
    "for data in serializer.data:\n",
    "    result = data['game']\n",
    "    for i in result:        \n",
    "        pp.pprint(result)\n",
    "        newdict = i['levels']\n",
    "#         newdict.extend(list1)\n",
    "#         pp.pprint(newdict)\n",
    "#def fun1 (a,list2):\n",
    "#     newdict = i['levels']\n",
    "#    for num in a:\n",
    "#        newdict.append(list2[num])\n",
    "#    pp.pprint(newdict)\n",
    "\n",
    "#fun1([1,2],list2=newdict)\n",
    "            #pp.pprint(serializer.data)"
   ]
  },
  {
   "cell_type": "code",
   "execution_count": null,
   "metadata": {},
   "outputs": [],
   "source": [
    "list1 = [{'level_number':1,'level_name':'betttel filed','photo':\"dssgfgfjfddsg\"},{'level_number':2,'level_name':'goga ji filed','photo':\"dssgfgfjfddsg\"},{'level_number':3,'level_name':'babab filed','photo':\"dssgfgfjfddsg\"}]"
   ]
  },
  {
   "cell_type": "code",
   "execution_count": null,
   "metadata": {},
   "outputs": [],
   "source": [
    "def activeleveldata (activelevelidlist):\n",
    "    data = []\n",
    "    for i in activelevelidlist:\n",
    "        level = Level.objects.get(id = i)\n",
    "        serializer = LevelSerializer(level)\n",
    "        data.append(serializer.data)\n",
    "    return data\n",
    "activeleveldata(activelevellist)"
   ]
  },
  {
   "cell_type": "code",
   "execution_count": null,
   "metadata": {},
   "outputs": [],
   "source": []
  },
  {
   "cell_type": "code",
   "execution_count": null,
   "metadata": {},
   "outputs": [],
   "source": [
    "step 1 :  \n",
    "        datadict = srializer.data   #  datadict yha ek dictnary hai\n",
    "        games=datadict['game']    # games ka type list hai\n",
    "        # ek - ek game ko access karne ke liye for loop chalana\n",
    "        for gam in games:\n",
    "            levels=gam['levels']  # total me se only jo active levelka pura nested data lena hai or baki ke 3 feild lene hai\n",
    "            # active level ka nested data ki list chaiye ek veriabel me\n",
    "            # activelevel function ko call karna hai\n",
    "            activelevelidlist = datadict\n",
    "            activeleveldatalist = activeleveldata([])\n",
    "            # only 3 field ka diactiveserializer banana hai\n",
    "            # dactive level ki list lani hai\n",
    "            # activelevel or dactivelevel dono ki list ko add karke new list banani hai\n",
    "            # newlevel list ko purani level list ko update karna hai\n",
    "            \n",
    "            "
   ]
  },
  {
   "cell_type": "code",
   "execution_count": null,
   "metadata": {},
   "outputs": [],
   "source": [
    "newactivelevellist = []\n",
    "level = Level.objects.get(id=1)\n",
    "serializer = LevelSerializer(level)\n",
    "levelnestedlist = serializer.data\n",
    "newactivelevellist.append(levelnestedlist)\n",
    "#print(type(levelnestedlist))\n",
    "print(newactivelevellist)"
   ]
  },
  {
   "cell_type": "code",
   "execution_count": null,
   "metadata": {},
   "outputs": [],
   "source": []
  },
  {
   "cell_type": "code",
   "execution_count": null,
   "metadata": {},
   "outputs": [],
   "source": [
    "level = Level.objects.all()\n",
    "serializer = LeveldactiveSerializer(level, many = True)\n",
    "diactivelevel = serializer.data\n",
    "print(type(diactivelevel))\n",
    "pp.pprint(diactivelevel)"
   ]
  },
  {
   "cell_type": "code",
   "execution_count": null,
   "metadata": {},
   "outputs": [],
   "source": []
  },
  {
   "cell_type": "code",
   "execution_count": null,
   "metadata": {},
   "outputs": [],
   "source": [
    "newactivelevellist.extend(diactivelevel)\n",
    "print(newactivelevellist)"
   ]
  },
  {
   "cell_type": "code",
   "execution_count": null,
   "metadata": {},
   "outputs": [],
   "source": []
  },
  {
   "cell_type": "code",
   "execution_count": null,
   "metadata": {},
   "outputs": [],
   "source": []
  },
  {
   "cell_type": "code",
   "execution_count": null,
   "metadata": {},
   "outputs": [],
   "source": [
    "student = Student.objects.get(pk=1)\n",
    "serializer = StudentsSerializer(student)\n",
    "datadict = serializer.data\n",
    "games = datadict['game']\n",
    "for gam in games:\n",
    "    levelsall = gam['levels']\n",
    "   # pp.pprint(type(levelsall))\n",
    "    activelevelreturndata = activeleveldata(activelevellist) \n",
    "    level = Level.objects.all()\n",
    "    serializer = LeveldactiveSerializer(level, many = True)\n",
    "    diactivelevel = [dict(el) for el in serializer.data]\n",
    "    activelevelreturndata.extend(diactivelevel)\n",
    "    #pp.pprint(type(activelevelreturndata))\n",
    "    activelevelreturndata \n",
    "   # pp.pprint(type(levelsall))\n",
    "res = []\n",
    "listindex =[]\n",
    "counter=0\n",
    "for arr in activelevelreturndata:\n",
    "   # pp.pprint(arr)\n",
    "    if(counter==0):\n",
    "        listindex.append(arr[\"level_number\"])\n",
    "        counter +=  1\n",
    "        res.append(arr)\n",
    "    elif(arr[\"level_number\"] not in listindex):\n",
    "        listindex.append(arr[\"level_number\"])\n",
    "        res.append(arr)\n",
    "gam['levels'] = res\n",
    "#pp.pprint(gam)\n",
    "pp.pprint(datadict)\n"
   ]
  },
  {
   "cell_type": "code",
   "execution_count": null,
   "metadata": {},
   "outputs": [],
   "source": []
  },
  {
   "cell_type": "code",
   "execution_count": null,
   "metadata": {},
   "outputs": [],
   "source": [
    "list1 = [1, 2, 3]\n",
    "# Q. wap create a dictnary of phada\n",
    "# def func (limitnumber):\n",
    "#       return resultdict\n",
    "# exa :- limtnumber = 3  resultdict = {2:[2, 4, 6, 8, ......], 3 : [3, 6, 9, ....]}\n",
    "#\n",
    "\n",
    "\n",
    "\n",
    "#  Q. list2 = []  wap where function argument list to return me us list ka sabse bada element \n",
    "# return me list chaiye jiska 0 index pe list2 sabse bada element or us aage ke element 100 ho(last ka element 100 ho)\n",
    "# exa :- list2 = [5, 7, 6]   Ans. list3 = [7, 8 , 9, 10 ....... 100]\n",
    "# def funname (list2):\n",
    "#    return Anslist3 \n",
    "\n",
    "\n",
    "# Q. str1 = \" hi am vickkumar saini bjknjhgyhjh fythgjgbkjvrdt hfdyrtuyk6uyjgfg\"  is me se a to z kitne count hai"
   ]
  },
  {
   "cell_type": "code",
   "execution_count": null,
   "metadata": {
    "scrolled": true
   },
   "outputs": [],
   "source": [
    "seen = set()\n",
    "new_l = []\n",
    "for d in levelsall:\n",
    "    t = tuple(d.items())\n",
    "    if t not in seen:\n",
    "        seen.add(t)\n",
    "        new_l.append(d)\n",
    "\n",
    "print (new_l)"
   ]
  },
  {
   "cell_type": "code",
   "execution_count": null,
   "metadata": {},
   "outputs": [],
   "source": [
    "l = [{'id': 1, 'level_number': 1,'level_name':'betall field'},\n",
    "        {'id': 2, 'level_number': 2,'level_name':'rudra tank'},\n",
    "        {'id': 1, 'level_number': 1,'level_name':'betall field'},\n",
    "     {'id':3,'level_number':3,'level_name':'armata tank'}]\n",
    "\n",
    "new_l = []\n",
    "for d in l:\n",
    "    for j in new_l:\n",
    "        if(d.id!=j.id):\n",
    "            console.log(d)\n",
    "            new_l.append(d)\n",
    "            \n",
    "print (new_l)   "
   ]
  },
  {
   "cell_type": "code",
   "execution_count": null,
   "metadata": {},
   "outputs": [],
   "source": []
  },
  {
   "cell_type": "code",
   "execution_count": null,
   "metadata": {},
   "outputs": [],
   "source": [
    "seen_titles = set()\n",
    "new_list = []\n",
    "for obj in levelsall:\n",
    "    if obj.title not in seen_titles:\n",
    "        new_list.append(obj)\n",
    "        seen_titles.add(obj.title)"
   ]
  },
  {
   "cell_type": "code",
   "execution_count": null,
   "metadata": {},
   "outputs": [],
   "source": []
  },
  {
   "cell_type": "code",
   "execution_count": null,
   "metadata": {},
   "outputs": [],
   "source": [
    "seen = {}\n",
    "for obj in l:\n",
    "    if obj[\"id\"] in seen.keys():\n",
    "        l.remove(obj)\n",
    "    else:\n",
    "        seen[obj[\"id\"]] = 1\n",
    "print(seen)"
   ]
  },
  {
   "cell_type": "code",
   "execution_count": null,
   "metadata": {},
   "outputs": [],
   "source": [
    "thisdict = {\n",
    "  \"brand\": \"Ford\",\n",
    "  \"model\": \"Mustang\",\n",
    "  \"year\": 1964\n",
    "}\n",
    "thisdict.pop(\"model\")\n",
    "print(thisdict)"
   ]
  },
  {
   "cell_type": "code",
   "execution_count": null,
   "metadata": {},
   "outputs": [],
   "source": []
  },
  {
   "cell_type": "code",
   "execution_count": null,
   "metadata": {},
   "outputs": [],
   "source": [
    "l = [{'id': 1, 'level_number': 1,'level_name':'betall field'},\n",
    "        {'id': 2, 'level_number': 2,'level_name':'rudra tank'},\n",
    "        {'id': 1, 'level_number': 1,'level_name':'betall field'},\n",
    "     {'id':3,'level_number':3,'level_name':'armata tank'}]\n",
    "\n",
    "\n"
   ]
  },
  {
   "cell_type": "code",
   "execution_count": null,
   "metadata": {},
   "outputs": [],
   "source": []
  },
  {
   "cell_type": "code",
   "execution_count": null,
   "metadata": {},
   "outputs": [],
   "source": []
  },
  {
   "cell_type": "code",
   "execution_count": null,
   "metadata": {},
   "outputs": [],
   "source": [
    "thistuple = (1, 3, 7, 8, 7, 5, 4, 6, 8, 5)\n",
    "\n",
    "x = thistuple.index(7)\n",
    "\n",
    "print(x)"
   ]
  },
  {
   "cell_type": "code",
   "execution_count": null,
   "metadata": {},
   "outputs": [],
   "source": [
    "l = [{'id': 1, 'level_number': 1,'level_name':'betall field'},\n",
    "        {'id': 2, 'level_number': 2,'level_name':'rudra tank'},\n",
    "        {'id': 1, 'level_number': 1},\n",
    "     {'id':3,'level_number':3},\n",
    "    {'id':3,'level_number':3,'level_name':'armata tank'},\n",
    "    {'id':4,'level_number':4,'level_name':'armata tank'}]\n",
    "res = []\n",
    "listindex =[]\n",
    "counter=0\n",
    "for arr in l:\n",
    "   # pp.pprint(arr)\n",
    "    if(counter==0):\n",
    "        listindex.append(arr[\"level_number\"])\n",
    "        counter +=  1\n",
    "        res.append(arr)\n",
    "    elif(arr[\"level_number\"] not in listindex):\n",
    "        listindex.append(arr[\"level_number\"])\n",
    "        res.append(arr)\n",
    "        \n",
    "pp.pprint(res)            "
   ]
  },
  {
   "cell_type": "code",
   "execution_count": null,
   "metadata": {},
   "outputs": [],
   "source": []
  },
  {
   "cell_type": "code",
   "execution_count": null,
   "metadata": {},
   "outputs": [],
   "source": [
    "list1 = [{2:2,4:5},{\"id\":2}]\n",
    "list2 = [{\"name\":\"vicky\"}]\n",
    "list1.extend(list2)"
   ]
  },
  {
   "cell_type": "code",
   "execution_count": null,
   "metadata": {},
   "outputs": [],
   "source": [
    "print(list1)"
   ]
  },
  {
   "cell_type": "code",
   "execution_count": null,
   "metadata": {},
   "outputs": [],
   "source": []
  },
  {
   "cell_type": "code",
   "execution_count": null,
   "metadata": {},
   "outputs": [],
   "source": []
  },
  {
   "cell_type": "code",
   "execution_count": null,
   "metadata": {},
   "outputs": [],
   "source": [
    "l = {\"game\":[],\"levels\":[{'id': 1, 'level_number': 1,'level_name':'betall field'},\n",
    "        {'id': 2, 'level_number': 2,'level_name':'rudra tank'},]\n",
    "list2 = [{\"id\":1, \"Level_number\":1,\"level_name\":\"vicky\"}]}\n",
    "l=list2\n",
    "print(l)"
   ]
  },
  {
   "cell_type": "code",
   "execution_count": null,
   "metadata": {},
   "outputs": [],
   "source": [
    "l"
   ]
  },
  {
   "cell_type": "code",
   "execution_count": null,
   "metadata": {},
   "outputs": [],
   "source": [
    "myokdict = {\"name\":\"ram\",\"mybrothers\":[{\"name\":\"ashok\",\"levels\":[1,2,3]},{\"name\":\"vicky\",\"levels\":[3,91,2,3]}],'level':[1,2,3]}\n",
    "d1 = [{'name': 'syam', 'levels': [1, 2, 3],\"photo\":\"bhdjkhffjhsdf.jpg\",'contact':\"749393\"}]\n",
    "myokdict['mybrothers']=d1\n",
    "\n",
    "print(myokdict)"
   ]
  },
  {
   "cell_type": "code",
   "execution_count": null,
   "metadata": {},
   "outputs": [],
   "source": [
    "print(myokdict['mybrothers'])"
   ]
  },
  {
   "cell_type": "code",
   "execution_count": null,
   "metadata": {},
   "outputs": [],
   "source": []
  },
  {
   "cell_type": "code",
   "execution_count": null,
   "metadata": {},
   "outputs": [],
   "source": []
  },
  {
   "cell_type": "code",
   "execution_count": null,
   "metadata": {},
   "outputs": [],
   "source": [
    "#  algorithime of games send 3 prodects \n",
    "\n",
    "# step 1 .  start\n",
    "# step 2 .  serializer.data  ( me tino game aane chaiye iske liye aalgase serializer bananan ho ga )\n",
    "#           usme se 3 no game nikalne hai "
   ]
  },
  {
   "cell_type": "code",
   "execution_count": 6,
   "metadata": {},
   "outputs": [
    {
     "name": "stdout",
     "output_type": "stream",
     "text": [
      "[OrderedDict([('game_name', 'TOTOKA'), ('game_type', 'SMART CITY'), ('gamephoto', '/game_image/bsttle_of_tank.jpg')]), OrderedDict([('game_name', 'TAKSHAK'), ('game_type', 'SMART CITY'), ('gamephoto', '/game_image/Takshak.jpg.jpg')])]\n"
     ]
    }
   ],
   "source": [
    "game = Games.objects.all()\n",
    "serializer = Games3Serializer(game, many = True)\n",
    "print(serializer.data)"
   ]
  },
  {
   "cell_type": "code",
   "execution_count": null,
   "metadata": {},
   "outputs": [],
   "source": []
  },
  {
   "cell_type": "code",
   "execution_count": null,
   "metadata": {},
   "outputs": [],
   "source": []
  }
 ],
 "metadata": {
  "kernelspec": {
   "display_name": "Python 3",
   "language": "python",
   "name": "python3"
  },
  "language_info": {
   "codemirror_mode": {
    "name": "ipython",
    "version": 3
   },
   "file_extension": ".py",
   "mimetype": "text/x-python",
   "name": "python",
   "nbconvert_exporter": "python",
   "pygments_lexer": "ipython3",
   "version": "3.8.5"
  }
 },
 "nbformat": 4,
 "nbformat_minor": 4
}

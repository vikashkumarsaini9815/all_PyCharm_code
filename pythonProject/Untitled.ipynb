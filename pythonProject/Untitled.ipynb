{
 "cells": [
  {
   "cell_type": "code",
   "execution_count": 1,
   "metadata": {},
   "outputs": [
    {
     "name": "stdout",
     "output_type": "stream",
     "text": [
      "<!DOCTYPE html>\n",
      "<!--[if lt IE 7 ]> <html lang=\"en\" class=\"no-js oldie ie6\"> <![endif]-->\n",
      "<!--[if IE 7 ]>    <html lang=\"en\" class=\"no-js oldie ie7\"> <![endif]-->\n",
      "<!--[if IE 8 ]>    <html lang=\"en\" class=\"no-js ie8\"> <![endif]-->\n",
      "<!--[if (gte IE 9)|!(IE)]><!--> <html class=\"no-js\" lang=\"en\"> <!--<![endif]-->\n",
      "\n",
      "<link rel=\"icon\" href=\"data:,\">\n",
      "<!-- Custom Modernizr build (should always be on the top) -->\n",
      "<!-- <script src=\"js/modernizr-2.0.6.min.js\"></script> -->\n",
      "<script language=\"javascript\">\n",
      "    document.title = \"Transaction Error\";\n",
      "    if (window.opener) {\n",
      "        window.opener.postMessage({evt: \"bolt-ohFish\", errMsg: \"Some problem occurred\"}, \"*\");\n",
      "    } else {\n",
      "        window.parent.postMessage({evt: \"bolt-ohFish\", errMsg: \"Some problem occurred\"}, \"*\");\n",
      "    }\n",
      "</script>\n",
      "\n",
      "<style>\n",
      "    body {font-family: 'Arial'}\n",
      "    .container {width: 960px; margin: 0 auto; padding: 15px 0;}\n",
      "\n",
      "    #header {border-bottom: 1px solid #ccc;}\n",
      "    #content {padding: 100px;}\n",
      "    #content h1 {font-size: 70px; color: #358DCB; margin-bottom: 0; margin-top: 0; text-align: center}\n",
      "    #content h2 {font-size: 16px; margin-top: 0; text-align: center}\n",
      "    #content p {font-size: 14px; margin-top: 30px; line-height: 24px; padding: 0 150px;}\n",
      "\n",
      "    #footer {border-top: 1px solid #ddd; font-size: 12px;}\n",
      "    #footer p {margin-top: 0;}\n",
      "\n",
      "    #footer a {text-decoration: underline}\n",
      "</style>\n",
      "\n",
      "<div id=\"header\">\n",
      "    <div class=\"container\">\n",
      "        <img src=\"https://static.payu.in/images/payu_logo.png\">\n",
      "    </div>\n",
      "</div>\n",
      "<div id=\"content\" >\n",
      "    <div class=\"container\">\n",
      "        <h1>SORRY!</h1>\n",
      "        <h2>We were unable to process your payment</h2>\n",
      "            <p style='text-align: justify;font-size:13px;'><span style='font-size:20px;color:#FF0000'>Error Reason</span><br>Transaction failed due to incorrectly calculated <b>hash</b> parameter.  </p><p style='text-align: justify;font-size:13px;'><span style='font-size:20px;color:#64D81C'>Corrective Action</span><br><span style=\"text-align: justify\">Please ensure that the <b>hash</b> used in transaction request is calculated using the correct formula.   </p>    </div>\n",
      "\n",
      "    </div>\n",
      "\n",
      "<div id=\"footer\">\n",
      "    <div class=\"container\">\n",
      "        <!--<p style=\"float:left\">&copy; 2015 PayUBiz. All rights reserved.</p>\n",
      "        <p style=\"float:right\"><a target=\"_blank\" href=https://www.payubiz.in/privacyPolicy >Privacy Policy</a></p>\n",
      "        <p style=\"clear:both\"></p>-->\n",
      "        <p style=\"text-align: center\">&copy; 2022 PayUBiz. All rights reserved.</p>\n",
      "    </div>\n",
      "</div>\n",
      "\n",
      "<script src=\"js/libs/jquery-custom.min.js\"></script>\n",
      "<!-- <script src=\"./_js/plugins.js\"></script> -->\n",
      "<!-- <script src=\"js/script.js?version=v2.0.10\"></script> -->\n",
      "\n",
      "\n"
     ]
    }
   ],
   "source": [
    "import requests\n",
    "import payu_sdk\n",
    "# client = payu_sdk.payUClient({\"key\":\"FZn5Bu\",\"salt\":\"uSESXnsRktc1QJUFsUaVCYsPnnC4P7BL\"})\n",
    "params = {\"txnid\":\"LImp8l8tmToJ6x\",\"amount\":\"10\",\"productinfo\":\"redme\",\"firstname\":\"pankaj\",\"email\":\"pankaj.jkishore@gmail.com\"}\n",
    "apiHash = payu_sdk.Hasher.APIHash(params)\n",
    "url = \"https://secure.payu.in/_payment\"\n",
    "# payload = \"key=&command=&var1=&var2=&var3=&var4=&var5=&var6=&var7=&var8=&var9=&hash=\"\n",
    "# headers = { \"Accept\": \"application/json\", \"Content-Type\": \"application/x-www-form-urlencoded\" }\n",
    "\n",
    "payload = \"key=FZn5Bu&txnid=LImp8l8tmToJ6x&amount=10.00&firstname=vicky&email=vickykumar@gmail.com&phone=9509582321&productInfo=redme&surl=https://apiplayground-response.herokuapp.com/&furl=https://apiplayground-response.herokuapp.com/&hash={}\".format(apiHash)\n",
    "headers = {\"Accept\": \"application/json\", \"Content-Type\": \"application/x-www-form-urlencoded\"}\n",
    "\n",
    "response = requests.request(\"POST\", url, data=payload, headers=headers)\n",
    "print(response.text)"
   ]
  },
  {
   "cell_type": "code",
   "execution_count": null,
   "metadata": {},
   "outputs": [],
   "source": []
  }
 ],
 "metadata": {
  "kernelspec": {
   "display_name": "Python 3",
   "language": "python",
   "name": "python3"
  },
  "language_info": {
   "codemirror_mode": {
    "name": "ipython",
    "version": 3
   },
   "file_extension": ".py",
   "mimetype": "text/x-python",
   "name": "python",
   "nbconvert_exporter": "python",
   "pygments_lexer": "ipython3",
   "version": "3.8.5"
  }
 },
 "nbformat": 4,
 "nbformat_minor": 4
}
